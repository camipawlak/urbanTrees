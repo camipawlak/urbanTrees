{
 "cells": [
  {
   "cell_type": "code",
   "execution_count": null,
   "id": "f55e34d6-4a66-484e-b45d-1a0f591bde5a",
   "metadata": {},
   "outputs": [],
   "source": [
    "#Assessing the 10-20-30 Rules using CUFI and mangement polygons for San Jose's\n",
    "#urban forest\n",
    "\n",
    "#04/21/2022\n",
    "\n",
    "#Cami Pawlak, Cam Gonsalves, Kylee Neilson, Olivia Ross, Tricia Nguyen\n",
    "\n",
    "##First, make sure you have geopandas installed, and are in an environment with it\n",
    "import geopandas as gpd\n",
    "import fiona\n",
    "import pandas as pd\n",
    "import numpy as np\n",
    "\n",
    "#change the pandas options to display all columns\n",
    "pd.set_option('display.max_columns', None)\n"
   ]
  },
  {
   "cell_type": "code",
   "execution_count": null,
   "id": "1d8f9e28-6085-4f07-ba2d-4cce1424dfd2",
   "metadata": {},
   "outputs": [],
   "source": [
    "##Load the path to the polygon of the scale you want to assess and your path to CUFI\n",
    "## make sure the polygon is EPSG 4326 (GCS_WGS_1984)\n",
    "path_to_CUFI = \"YOUR PATH HERE/ SCC_trees_v3.shp\"\n",
    "path_to_polygon = \"YOUR PATH HERE/ YOUR FILENAME HERE\"\n",
    "\n",
    "## Load your polygon\n",
    "poly_gdf = gpd.read_file(path_to_polygon, driver='shapefile')\n",
    "\n",
    "## Load the CUFI\n",
    "CUFI = gpd.read_file(path_to_CUFI, driver='shapefile')\n",
    "\n",
    "#make sure that crs is the same for each file or the next step will not work\n",
    "\n",
    "#Spatially join the polygon and points #keep only points that intersect polygon\n",
    "pointInPoly = gpd.sjoin(CUFI, poly_gdf, how='left',op='within') "
   ]
  },
  {
   "cell_type": "code",
   "execution_count": null,
   "id": "af734749-1991-46f3-b1ec-7ec225c1a876",
   "metadata": {},
   "outputs": [],
   "source": [
    "#look at the data\n",
    "pointInPoly.head(1)"
   ]
  },
  {
   "cell_type": "code",
   "execution_count": null,
   "id": "4a1633df-d113-4c9c-80db-597d1623ce01",
   "metadata": {},
   "outputs": [],
   "source": [
    "#important step: rename the indentifier of you polygon like zip_code or county name to a column named identifier\n",
    "pointInPoly['identifier'] = pointInPoly['zip_code']\n",
    "poly_gdf['identifier'] = poly_gdf['zip_code']"
   ]
  },
  {
   "cell_type": "code",
   "execution_count": null,
   "id": "ecf403cb-622b-4df9-9160-d0d027854988",
   "metadata": {},
   "outputs": [],
   "source": [
    "#count the total number of trees in each zip code and use transform to add as a column to the dataframe\n",
    "pointInPoly['TotalTrees'] = pointInPoly.groupby('identifier')['V1'].transform('count')\n",
    "#count the number of trees of each species in each zipcode and use transform to add as a column to the dataframe\n",
    "pointInPoly['CountSpecies'] = pointInPoly.groupby(['identifier','species'])['V1'].transform('count')\n",
    "#count the number of trees of each genera in each zipcode and use transform to add as a column to the dataframe\n",
    "pointInPoly['CountGenus'] = pointInPoly.groupby(['identifier','genus'])['V1'].transform('count')\n",
    "#count the number of trees of each family in each zipcode and use transform to add as a column to the dataframe\n",
    "pointInPoly['CountFamilies'] = pointInPoly.groupby(['identifier','family'])['V1'].transform('count')"
   ]
  },
  {
   "cell_type": "code",
   "execution_count": null,
   "id": "b4f489c3-ebe6-4d40-8d9c-912161fc0542",
   "metadata": {},
   "outputs": [],
   "source": [
    "#check out the data\n",
    "pointInPoly.head(1)"
   ]
  },
  {
   "cell_type": "code",
   "execution_count": null,
   "id": "dbc69ae0-f9bb-463b-8240-3a14c7335b1d",
   "metadata": {},
   "outputs": [],
   "source": [
    "#get only relevant columns\n",
    "subset = pointInPoly[['identifier', 'species', 'genus', 'family', 'TotalTrees', 'CountSpecies', 'CountGenus', 'CountFamilies']]\n",
    "#drop duplicates from the table\n",
    "summary_df = subset.drop_duplicates()"
   ]
  },
  {
   "cell_type": "code",
   "execution_count": null,
   "id": "a7feab13-ec39-4aaa-935b-bb8e00099396",
   "metadata": {},
   "outputs": [],
   "source": [
    "#Look at the data\n",
    "summary_df.head(1)"
   ]
  },
  {
   "cell_type": "code",
   "execution_count": null,
   "id": "00c9c80b-e533-4675-9b0d-d9d3d7b2e4a7",
   "metadata": {},
   "outputs": [],
   "source": [
    "#Calculate the percent that each species, genus, and family makes up of the data set\n",
    "#There will be warnings when you run this but it is okay- this has been tested \n",
    "summary_df['perc_sp'] = (summary_df['CountSpecies']/summary_df['TotalTrees'])*100\n",
    "summary_df['perc_gen'] =(summary_df['CountGenus']/summary_df['TotalTrees'])*100\n",
    "summary_df['perc_fam'] = (summary_df['CountFamilies']/summary_df['TotalTrees'])*100"
   ]
  },
  {
   "cell_type": "code",
   "execution_count": null,
   "id": "91c56884-8c27-448e-bc48-5c472acd0338",
   "metadata": {},
   "outputs": [],
   "source": [
    "#Look at the data\n",
    "summary_df.head(5)"
   ]
  },
  {
   "cell_type": "code",
   "execution_count": null,
   "id": "338e39da-0877-41ef-9ff1-6859af303182",
   "metadata": {},
   "outputs": [],
   "source": [
    "#Create definitions for violating the 10, 20 and 30 rule and all three\n",
    "def sp_violate(row):  \n",
    "    if row['perc_sp'] > 10:\n",
    "        return '1'\n",
    "    elif row['perc_sp'] <= 10:\n",
    "        return '0'\n",
    "    \n",
    "def gen_violate(row):  \n",
    "    if row['perc_sp'] > 20:\n",
    "        return '1'\n",
    "    elif row['perc_sp'] <= 20:\n",
    "        return '0'\n",
    "    \n",
    "def fam_violate(row):  \n",
    "    if row['perc_sp'] > 30:\n",
    "        return '1'\n",
    "    elif row['perc_sp'] <= 30:\n",
    "        return '0'"
   ]
  },
  {
   "cell_type": "code",
   "execution_count": null,
   "id": "1264292d-4435-4403-978a-73911dc2146b",
   "metadata": {},
   "outputs": [],
   "source": [
    "#Create columns where 1 means the rule is being broken and 0 means it is not based on rules above\n",
    "summary_df['sp_violate'] = summary_df.apply(lambda row: sp_violate(row), axis=1)\n",
    "summary_df['sp_violate'] = pd.to_numeric(summary_df['sp_violate'])\n",
    "summary_df['gen_violate'] = summary_df.apply(lambda row: gen_violate(row), axis=1)\n",
    "summary_df['gen_violate'] = pd.to_numeric(summary_df['gen_violate'])\n",
    "summary_df['fam_violate'] = summary_df.apply(lambda row: fam_violate(row), axis=1)\n",
    "summary_df['fam_violate'] = pd.to_numeric(summary_df['fam_violate'])"
   ]
  },
  {
   "cell_type": "code",
   "execution_count": null,
   "id": "4d1d3850-c928-479c-85d0-13449b9331a6",
   "metadata": {},
   "outputs": [],
   "source": [
    "#define if all three are being broken\n",
    "def tentwentythirty_violate(row):  \n",
    "    if row['sp_violate'] == 1 and row['gen_violate'] == 1 and row['fam_violate'] == 1:\n",
    "        return 1\n",
    "    return 0\n",
    "    \n",
    "#and apply it\n",
    "\n",
    "summary_df['102030_violate'] = summary_df.apply(lambda row: tentwentythirty_violate(row), axis=1)\n",
    "summary_df['102030_violate'] = pd.to_numeric(summary_df['102030_violate'])"
   ]
  },
  {
   "cell_type": "code",
   "execution_count": null,
   "id": "7535be84-7a41-4f27-b977-5004dad98d54",
   "metadata": {},
   "outputs": [],
   "source": [
    "#Save the csv if you want to so you can see what species violate what later\n",
    "summary_df.to_csv('YOUR PATH HERE/ YOUR FILENAME HERE.csv')"
   ]
  },
  {
   "cell_type": "code",
   "execution_count": null,
   "id": "938826a1-438e-452e-a619-1d1aa7b29b18",
   "metadata": {},
   "outputs": [],
   "source": [
    "df1 = pd.DataFrame(summary_df.groupby('identifier')['sp_violate'].sum())\n",
    "df2 = pd.DataFrame(summary_df.groupby('identifier')['gen_violate'].sum())\n",
    "df3 = pd.DataFrame(summary_df.groupby('identifier')['fam_violate'].sum())\n",
    "df4 = pd.DataFrame(summary_df.groupby('identifier')['102030_violate'].sum())"
   ]
  },
  {
   "cell_type": "code",
   "execution_count": null,
   "id": "0b927a16-3b24-445b-86a6-1e505526c82b",
   "metadata": {},
   "outputs": [],
   "source": [
    "df5 = df1.join(df2, on='identifier', how='left')\n",
    "df5 = df5.join(df3, on='identifier', how='left')\n",
    "df5 = df5.join(df4, on='identifier', how='left')      "
   ]
  },
  {
   "cell_type": "code",
   "execution_count": null,
   "id": "5894ec63-bfd4-4c07-ac3e-1bcc50c5bc3d",
   "metadata": {},
   "outputs": [],
   "source": [
    "polygon_with_102030 = poly_gdf.join(df5, on='identifier', how='inner')"
   ]
  },
  {
   "cell_type": "code",
   "execution_count": null,
   "id": "5add3623-315a-40f8-9df6-924797ec7b9c",
   "metadata": {},
   "outputs": [],
   "source": [
    "#save the shapefile with attribute data\n",
    "polygon_with_102030.to_file('YOUR PATH HERE/ YOUR FILENAME HERE.shp')  "
   ]
  },
  {
   "cell_type": "code",
   "execution_count": null,
   "id": "9cebaa17-e994-47a8-bb1d-34b02e1061ed",
   "metadata": {},
   "outputs": [],
   "source": []
  }
 ],
 "metadata": {
  "kernelspec": {
   "display_name": "Python 3 (ipykernel)",
   "language": "python",
   "name": "python3"
  },
  "language_info": {
   "codemirror_mode": {
    "name": "ipython",
    "version": 3
   },
   "file_extension": ".py",
   "mimetype": "text/x-python",
   "name": "python",
   "nbconvert_exporter": "python",
   "pygments_lexer": "ipython3",
   "version": "3.8.12"
  }
 },
 "nbformat": 4,
 "nbformat_minor": 5
}
